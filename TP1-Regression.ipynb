{
 "cells": [
  {
   "cell_type": "markdown",
   "metadata": {},
   "source": [
    "# 1. Un premier modèle : la droite !"
   ]
  },
  {
   "cell_type": "markdown",
   "metadata": {},
   "source": [
    "**Exemple 1** : *Prédire le prix d'une voiture en fonction de son poids.*"
   ]
  },
  {
   "cell_type": "markdown",
   "metadata": {},
   "source": [
    "Voici ci-dessous une collection points correspondants à différents modèles de voitures. Le poids se lit en\n",
    "abscisse et le prix en ordonnée."
   ]
  },
  {
   "cell_type": "markdown",
   "metadata": {},
   "source": [
    "<img src=\"img/101.png\">"
   ]
  },
  {
   "cell_type": "markdown",
   "metadata": {},
   "source": [
    "En observant les données, on se rend compte que les points sont en gros situés le long d’une droite. On peut donc raisonnablement vouloir modéliser ce phénomène à l’aide d’une droite. On parle de modèle linéaire (droite=ligne). On choisit de modéliser ce phénomène à l’aide de la droite suivante :"
   ]
  },
  {
   "cell_type": "markdown",
   "metadata": {},
   "source": [
    "<img src=\"img/102.png\">"
   ]
  },
  {
   "cell_type": "markdown",
   "metadata": {},
   "source": [
    "Voici comment l’on peut utiliser ce modèle pour faire des prédictions. Supposons que l’on souhaite prédire le prix du nouveau cross-over Renault qui va sortir. L’on sait grâce à la fiche technique qui vient de paraître dans auto-moto qu’il devrait peser 1,7 tonnes. Il suffit donc de lire sur le graphique l’ordonnée du point de la droite qui a pour abscisse 1700 pour obtenir la prédiction de 39000 euros."
   ]
  },
  {
   "cell_type": "markdown",
   "metadata": {},
   "source": [
    "**Exercice 1** : *Prédire à l’aide de ce modèle (la droite dans le graphique précédent) le prix d’une voiture de 900 kilos.*"
   ]
  },
  {
   "cell_type": "code",
   "execution_count": null,
   "metadata": {},
   "outputs": [],
   "source": [
    "# Donner la réponse ci-dessous\n",
    "\n",
    "# prix = ?"
   ]
  },
  {
   "cell_type": "markdown",
   "metadata": {},
   "source": [
    "Cependant il y a à priori plusieurs façons de choisir son modèle (la droite, pas la voiture !). Par exemple :"
   ]
  },
  {
   "cell_type": "markdown",
   "metadata": {},
   "source": [
    "<img src=\"img/103.png\">"
   ]
  },
  {
   "cell_type": "markdown",
   "metadata": {},
   "source": [
    "Quel est à priori le meilleur modèle ? On aimerait trouver une façon ”scientifique” de déterminer cela.\n",
    "\n",
    "On parle de régression linéaire pour désigner le processus de recherche de la droite approchant au mieux le nuage de point. La suite de ce tp va consister à associer un nombre positif (une ”énergie”, ou ”action” dans le language de la physique) à chaque droite de façon à ce que le meilleur modèle soit celui qui minimise ce nombre.\n",
    "Nous nous intéressons dans un premier temps à comprendre comment manipuler mathématiquement et implémenter sur machine le concept de droite."
   ]
  },
  {
   "cell_type": "markdown",
   "metadata": {},
   "source": [
    "# 2. Équation d'une droite passant par deux points"
   ]
  },
  {
   "cell_type": "markdown",
   "metadata": {},
   "source": [
    "Commençons par rappeler une définition ”analytique” de la notion de droite dans le plan."
   ]
  },
  {
   "cell_type": "markdown",
   "metadata": {},
   "source": [
    "**Définition 1** : *La droite (d) de* **coefficient directeur a** *et* **d’ordonnée à l’origine b** *est l’ensemble des couples (x, y) solutions de l’équation y = ax + b.*"
   ]
  },
  {
   "cell_type": "markdown",
   "metadata": {},
   "source": [
    "<img src=\"img/104.png\">"
   ]
  },
  {
   "cell_type": "markdown",
   "metadata": {},
   "source": [
    "**Exercice 2** :  *Le graphique précédent correspond à a = 2 et b = 3. Quelles sont les ordonnées (faire les calculs) y(0) et y(1) des point d’abscisses 0 et 1 ?*"
   ]
  },
  {
   "cell_type": "code",
   "execution_count": null,
   "metadata": {},
   "outputs": [],
   "source": [
    "# Donner la réponse ci-dessous \n",
    "\n",
    "# y(0)= ?\n",
    "# y(1) = ?"
   ]
  },
  {
   "cell_type": "markdown",
   "metadata": {},
   "source": [
    "*Que retrouve-t’on si l’on calcule y(1) − y(0) ?*"
   ]
  },
  {
   "cell_type": "code",
   "execution_count": null,
   "metadata": {},
   "outputs": [],
   "source": [
    "# Donner la réponse ci-dessous (valeur numérique, puis en termes de a et de b)\n",
    "\n",
    "# y(1)-y(0) = ?"
   ]
  },
  {
   "cell_type": "markdown",
   "metadata": {},
   "source": [
    "**Exercice 3** : *De manière générale, pour une droite d’équation y(x) = ax + b, quelles sont les ordonnées des points d’abscisses 0 et 1 ?*"
   ]
  },
  {
   "cell_type": "code",
   "execution_count": null,
   "metadata": {},
   "outputs": [],
   "source": [
    "# Donner la réponse ci-dessous\n",
    "\n",
    "# y(0) = ?\n",
    "# y(1) = ?"
   ]
  },
  {
   "cell_type": "markdown",
   "metadata": {},
   "source": [
    "*Peut-on utiliser ce résultat pour déterminer les coefficients de la droite ? En d’autres termes, en supposant que l’on ne connait que y(0) et y(1), donner une expression de a et de b en fonction de y(0) et y(1) *"
   ]
  },
  {
   "cell_type": "code",
   "execution_count": null,
   "metadata": {},
   "outputs": [],
   "source": [
    "# Donner la réponse ci-dessous\n",
    "\n",
    "# b = ?\n",
    "# a = ?"
   ]
  },
  {
   "cell_type": "markdown",
   "metadata": {},
   "source": [
    "*Déterminer sur le graphique ci-dessous le coefficient directeur et le coefficient à l’origine de la droite (d′) passant par les points (1, 4) et (0, 1).*"
   ]
  },
  {
   "cell_type": "markdown",
   "metadata": {},
   "source": [
    "<img src=\"img/105.png\">"
   ]
  },
  {
   "cell_type": "code",
   "execution_count": null,
   "metadata": {},
   "outputs": [],
   "source": [
    "# Donner la réponse ci-dessous i.e. les valeurs numériques de a et b\n",
    "\n",
    "# b = ?\n",
    "# a = ?"
   ]
  },
  {
   "cell_type": "markdown",
   "metadata": {},
   "source": [
    "**Exercice 4** : *Déterminer à l’aide du graphique ci-dessus une approximation de l’ordonnée du point de la droite (d’) d’abscisse 2.*"
   ]
  },
  {
   "cell_type": "code",
   "execution_count": null,
   "metadata": {},
   "outputs": [],
   "source": [
    "# Donner la réponse ci-dessous\n",
    "\n",
    "# ordonnée approximative =  ?"
   ]
  },
  {
   "cell_type": "markdown",
   "metadata": {},
   "source": [
    "**Exercice 5** : *Vérifier la réponse à la question de l’exercice précédent en calculant y=ax+b avec les valeurs de a et b trouvées à l'exercice 3.*"
   ]
  },
  {
   "cell_type": "code",
   "execution_count": null,
   "metadata": {},
   "outputs": [],
   "source": [
    "# Donner la réponse ci-dessous\n",
    "\n",
    "# y(2) = ?"
   ]
  },
  {
   "cell_type": "markdown",
   "metadata": {},
   "source": [
    "Nous allons maintenant demander à l’ordinateur de faire pour nous le calcul que l’on vient de faire."
   ]
  },
  {
   "cell_type": "markdown",
   "metadata": {},
   "source": [
    "**Exercice 6** : *Écrire une fonction point_sur_la_droite (a,b,x) qui prend en entrées a le coefficient directeur, b l’ordonnée à l’origine, et x une abscisse quelconque, et retourne le couple (x,y) de la droite d’équation y = ax + b.*\n",
    "<img src=\"img/110.png\">"
   ]
  },
  {
   "cell_type": "code",
   "execution_count": null,
   "metadata": {},
   "outputs": [],
   "source": [
    "# Donner la réponse ci-dessous"
   ]
  },
  {
   "cell_type": "code",
   "execution_count": null,
   "metadata": {},
   "outputs": [],
   "source": [
    "point_sur_la_droite(2,1,2)"
   ]
  },
  {
   "cell_type": "markdown",
   "metadata": {},
   "source": [
    "Nous voulons maintenant, inversement, à partir de deux points p = ($p_1$, $p_2$) et q = ($q_1$, $q_2$) situés sur une droite (d), **déterminer les paramètres** a et b de la droite (d).\n",
    "\n",
    "Nous commençons par nous intéresser au **coefficient directeur a**. Pour cela écrivons ce que signifie que p et q sont des points de (d) : \n",
    "$$ p_{2} = a p_1 + b, $$\n",
    "$$ q_2 = a q_1 + b. $$\n",
    "En retranchant terme à terme ces deux equations l’on trouve l’expression :\n",
    "$$ p_2 - q_2 = a (p_1 - q_1)$$\n",
    "qui donne  : \n",
    "$$ a = \\dfrac{p_2 - q_2}{p_1 - q_1}.$$\n",
    "Nous allons implémenter le calcul que l’on vient de faire."
   ]
  },
  {
   "cell_type": "markdown",
   "metadata": {},
   "source": [
    "**Exercice 7** :  *Écrire une fonction coef_dir(p, q) qui prend deux points p = ($p_1$, $p_2$) et q = ($q_1$, $q_2$) et qui affiche successivement $p_2$, $q_2$, $p_1$, $q_1$, $p_2 = ap_1 + b$, $q_2 = aq_1 + b$, $p_2 − q_2 = a(p_1 − q_1)$, $a = \\dfrac{p_2−q_2}{p_1-q_1}$.*\n",
    "<img src=\"img/108.png\">"
   ]
  },
  {
   "cell_type": "code",
   "execution_count": null,
   "metadata": {},
   "outputs": [],
   "source": [
    "# Donner la réponse ci-dessous"
   ]
  },
  {
   "cell_type": "code",
   "execution_count": null,
   "metadata": {},
   "outputs": [],
   "source": [
    "p = (2,2)\n",
    "q = (4,5)\n",
    "coef_dir(p,q)"
   ]
  },
  {
   "cell_type": "markdown",
   "metadata": {},
   "source": [
    "Il nous reste encore à déterminer b. Il suffit par exemple, maintenant que l’on connait a, d’isoler b dans l’équation $p_{2} = a p_1 + b$. Ainsi cela donne $b = p_2 − ap_1$. Codons cela, regroupons les résultats et vérifions que cela fonctionne bien."
   ]
  },
  {
   "cell_type": "markdown",
   "metadata": {},
   "source": [
    "**Exercice 8** : *1. Écrire une fonction abscisse_origine($p$, $q$) qui prend deux points $p = (p_1, p_2)$ et $q = (q_1, q_2)$ et qui affiche $b = p_2 − ap_1$.*\n",
    "<img src=\"img/109.png\">"
   ]
  },
  {
   "cell_type": "code",
   "execution_count": null,
   "metadata": {},
   "outputs": [],
   "source": [
    "# Donner la réponse ci-dessous"
   ]
  },
  {
   "cell_type": "code",
   "execution_count": null,
   "metadata": {},
   "outputs": [],
   "source": [
    "abscisse_origine((2,2),(4,5))"
   ]
  },
  {
   "cell_type": "markdown",
   "metadata": {},
   "source": [
    "*2. Réécrire les fonctions coef_dir(p,q) et abscisse_origine(p,q) pour qu'elles retournent les valeurs de a et de b au lieu de les imprimer (ceci afin de pouvoir utiliser les résultats dans d'autres fonctions).*"
   ]
  },
  {
   "cell_type": "code",
   "execution_count": null,
   "metadata": {},
   "outputs": [],
   "source": [
    "# Donner la réponse ci-dessous"
   ]
  },
  {
   "cell_type": "markdown",
   "metadata": {},
   "source": [
    "*3. Écrire, en utilisant les fonctions précédentes, une fonction param_droite(p,q) qui prend deux points $p = (p_1, p_2)$ et $q = (q_1, q_2)$ et qui affiche les coefficients (a, b) de la droite (d) passant par p et q.*\n",
    "<img src=\"img/111.png\">"
   ]
  },
  {
   "cell_type": "code",
   "execution_count": null,
   "metadata": {},
   "outputs": [],
   "source": [
    "# Donner la réponse ci-dessous"
   ]
  },
  {
   "cell_type": "code",
   "execution_count": null,
   "metadata": {},
   "outputs": [],
   "source": [
    "param_droite(p,q)"
   ]
  },
  {
   "cell_type": "markdown",
   "metadata": {},
   "source": [
    "*4. Vérifier que tout fonctionne bien en écrivant une fonction verif(a, b) qui prend deux réels a et b, évalue les ordonnées $p_2$ et $q_2$ correspondant aux abscisses $p_1 = 1$ et $q_1 = 2$, puis calcule les coefficients de la droite passant par $p = (p_1, p_2)$ et $q = (q_1, q_2)$.*\n",
    "<img src=\"img/112.png\">"
   ]
  },
  {
   "cell_type": "code",
   "execution_count": null,
   "metadata": {},
   "outputs": [],
   "source": [
    "# Donner la réponse ci-dessous"
   ]
  },
  {
   "cell_type": "code",
   "execution_count": null,
   "metadata": {},
   "outputs": [],
   "source": [
    "verif(2,3)"
   ]
  },
  {
   "cell_type": "markdown",
   "metadata": {},
   "source": [
    "*5. Est-ce que cela dépend du choix que l’on a fait de $p_1$ et $q_1$ ?*"
   ]
  },
  {
   "cell_type": "code",
   "execution_count": null,
   "metadata": {},
   "outputs": [],
   "source": [
    "# Donner la réponse ci-dessous"
   ]
  },
  {
   "cell_type": "markdown",
   "metadata": {},
   "source": [
    "# 3. La fonctionnelle d'action"
   ]
  },
  {
   "cell_type": "markdown",
   "metadata": {},
   "source": [
    "##  1.1 Calcul de l'action"
   ]
  },
  {
   "cell_type": "markdown",
   "metadata": {},
   "source": [
    "L’idée intuitive est d’imaginer que l’on attache à chaque point $p = (x,y)$ de l’ensemble des données l’extrémité d’un petit élastique. L’autre extrémité est attachée au point de la droite de même abscisse $x$ que $p$. On peut voir un exemple pour un seul point $p=(4,2)$ sur le graphique :"
   ]
  },
  {
   "cell_type": "markdown",
   "metadata": {},
   "source": [
    "<img src=\"img/106.png\">"
   ]
  },
  {
   "cell_type": "markdown",
   "metadata": {},
   "source": [
    "Dont les coefficients de la droite sont $(a, b)$ = $(2, 3)$."
   ]
  },
  {
   "cell_type": "markdown",
   "metadata": {},
   "source": [
    "Plus généralement pour un ensemble de données,"
   ]
  },
  {
   "cell_type": "markdown",
   "metadata": {},
   "source": [
    "<img src=\"img/107.png\">"
   ]
  },
  {
   "cell_type": "markdown",
   "metadata": {},
   "source": [
    "Tous ces petits élastiques mettent la droite (supposée libre de bouger, i.e. les coefficients a et b de la droite y = ax + b sont des variables) en tension. **Le principe des variations dit que la position d’équilibre $(a_0,b_0)$ est atteinte pour la tension minimale, i.e. pour le minimum de la fonctionnelle d’action qui est définie comme la somme des tensions des elastiques.**"
   ]
  },
  {
   "cell_type": "markdown",
   "metadata": {},
   "source": [
    "La contribution d’un élastique à la tension totale est donnée par la distance au carré. Rappelons (théorème de Pythagore) que la distance au carré entre deux points $p$ = $(x,y)$ et $q$ = $(s,t)$ est donnée par $(d(p,q))^2$ = $(x−s)^2$ + $(y−t)^2$."
   ]
  },
  {
   "cell_type": "markdown",
   "metadata": {},
   "source": [
    "**Exercice 9** : *Calculer, dans l’avant-dernière figure, le carré de la distance entre le point $p$ et le point $q$ de la droite qui lui est attaché (i.e. $q$ est de même abcisse que $b$).*"
   ]
  },
  {
   "cell_type": "code",
   "execution_count": null,
   "metadata": {},
   "outputs": [],
   "source": [
    "# Donner la réponse ci-dessous\n",
    "\n",
    "#d = ?"
   ]
  },
  {
   "cell_type": "markdown",
   "metadata": {},
   "source": [
    "Comme l’on est en tp, on va aussi demander à l’ordinateur de faire ce calcul pour vérifier que l’on sait toujours faire des multiplications. On va d’abord lui apprendre à calculer une distance entre deux points."
   ]
  },
  {
   "cell_type": "markdown",
   "metadata": {},
   "source": [
    "**Exercice 10** :  *Écrire une fonction dist2(p,q) qui prend deux points $p$ = $(p_1,p_2)$ et $q$ = $(q_1,q_2)$ et affiche la distance au carré entre ces deux points.*\n",
    "<img src=\"img/113.png\">"
   ]
  },
  {
   "cell_type": "code",
   "execution_count": null,
   "metadata": {},
   "outputs": [],
   "source": [
    "# Donner la réponse ci-dessous"
   ]
  },
  {
   "cell_type": "code",
   "execution_count": null,
   "metadata": {},
   "outputs": [],
   "source": [
    "dist2(p,q)"
   ]
  },
  {
   "cell_type": "markdown",
   "metadata": {},
   "source": [
    "On va maintenant utiliser cette fonction pour définir une autre fonction qui elle calcule la tension de l’élastique."
   ]
  },
  {
   "cell_type": "markdown",
   "metadata": {},
   "source": [
    "**Exercice 11** : *Écrire une fonction tension(p, a, b) qui prend un point $p$ = $(p_1 , p_2)$ et les deux coefficients $(a, b)$ d’une droite d’équation $y$ = $ax + b$ et affiche la distance au carré entre le point $p$ = $(p_1, p_2)$ et le point de même abscisse situé sur la droite d’équation $y$ = $ax + b$.*\n",
    "<img src=\"img/114.png\">"
   ]
  },
  {
   "cell_type": "code",
   "execution_count": null,
   "metadata": {},
   "outputs": [],
   "source": [
    "# Donner la réponse ci-dessous"
   ]
  },
  {
   "cell_type": "code",
   "execution_count": null,
   "metadata": {},
   "outputs": [],
   "source": [
    "tension((4,2),2,3)"
   ]
  },
  {
   "cell_type": "markdown",
   "metadata": {},
   "source": [
    "On mesure la tension de chacun des élastiques et on fait la somme pour définir la fonctionnelle d’action."
   ]
  },
  {
   "cell_type": "markdown",
   "metadata": {},
   "source": [
    "**Exercice 12** : *Faire la somme des tensions des points $[[538.0, 12081.0], [1556.0, 24648.0], [1498.0, 40489.0], [1055.0, 24388.0]]$ de la figure précédente. On appelle le résultat de ce calcul ”l’action au point $(a,b)$” où $a$ et $b$ sont les coefficients de la droite. Dans le cas présent $a$ = $20$ et $b$ = $5000$*"
   ]
  },
  {
   "cell_type": "code",
   "execution_count": null,
   "metadata": {},
   "outputs": [],
   "source": [
    "# Donner la réponse ci-dessous"
   ]
  },
  {
   "cell_type": "markdown",
   "metadata": {},
   "source": [
    "On code une fonction qui peut faire pour nous le type de calcul que l’on vient de faire."
   ]
  },
  {
   "cell_type": "code",
   "execution_count": 1,
   "metadata": {},
   "outputs": [],
   "source": [
    "nuage =[[538.0,12081.0],[1556.0,24648.0],[1498.0,40489.0],[1055.0,24388.0]]\n",
    "\n",
    "# Donner la réponse ci-dessous"
   ]
  },
  {
   "cell_type": "code",
   "execution_count": null,
   "metadata": {},
   "outputs": [],
   "source": [
    "print(action)"
   ]
  },
  {
   "cell_type": "markdown",
   "metadata": {},
   "source": [
    "**Exercice 13** : *Écrire une fonction action(nuage, a, b) qui prend un nuage de point nuage = $((x_1, y_1), . . . , (x_n, y_n))$, les deux coefficients (a, b) d’une droite d’équation $y = ax + b$ et retourne l’action au point $(a, b)$ i.e. la somme sur les points de nuage des tensions de ces points.*\n",
    "<img src=\"img/115.png\">"
   ]
  },
  {
   "cell_type": "code",
   "execution_count": null,
   "metadata": {},
   "outputs": [],
   "source": [
    "# Donner la réponse ci-dessous"
   ]
  },
  {
   "cell_type": "code",
   "execution_count": null,
   "metadata": {},
   "outputs": [],
   "source": [
    "print(action(nuage,20,5000))"
   ]
  },
  {
   "cell_type": "markdown",
   "metadata": {},
   "source": [
    "## 1.2 Visualisation"
   ]
  },
  {
   "cell_type": "markdown",
   "metadata": {},
   "source": [
    "On souhaite maintenant visualiser l'action d'un nuage de points en fonction des paramètres a et b pour essayer de se la représenter plus intuitivement. Pour commencer on va d'abord visualiser comment \"évoluent\" les droites en fonction des paramètres a et b."
   ]
  },
  {
   "cell_type": "code",
   "execution_count": 2,
   "metadata": {},
   "outputs": [],
   "source": [
    "import matplotlib.pyplot as plt\n",
    "import numpy as np\n",
    "from mpl_toolkits import mplot3d"
   ]
  },
  {
   "cell_type": "markdown",
   "metadata": {},
   "source": [
    "**Indication 1** : Voici un exemple de code pour générer un point."
   ]
  },
  {
   "cell_type": "code",
   "execution_count": 3,
   "metadata": {},
   "outputs": [
    {
     "data": {
      "text/plain": [
       "[<matplotlib.lines.Line2D at 0x11554b240>]"
      ]
     },
     "execution_count": 3,
     "metadata": {},
     "output_type": "execute_result"
    },
    {
     "data": {
      "image/png": "[encoded data removed]",
      "text/plain": [
       "<matplotlib.figure.Figure at 0x10c5dec50>"
      ]
     },
     "metadata": {},
     "output_type": "display_data"
    }
   ],
   "source": [
    "plt.plot(10,1,'om',c=(1,0,0))"
   ]
  },
  {
   "cell_type": "markdown",
   "metadata": {},
   "source": [
    "**Indication 2** : Voici un exemple de code pour générer une suite de points indexés par des couleurs différentes."
   ]
  },
  {
   "cell_type": "code",
   "execution_count": 4,
   "metadata": {},
   "outputs": [
    {
     "data": {
      "image/png": "[encoded data removed]",
      "text/plain": [
       "<matplotlib.figure.Figure at 0x10c5dea90>"
      ]
     },
     "metadata": {},
     "output_type": "display_data"
    }
   ],
   "source": [
    "for n in range(10):\n",
    "    plt.plot(n,1,'om',c=(1-1/(n+1),0,1/(n+1)))"
   ]
  },
  {
   "cell_type": "markdown",
   "metadata": {},
   "source": [
    "**Exercice 14** : *Générer une suite de points indexés par couleurs différentes dont les coordonnées (a,b) sont des fonctions de n que vous choisirez (Par exemple des polynômes).*"
   ]
  },
  {
   "cell_type": "code",
   "execution_count": null,
   "metadata": {},
   "outputs": [],
   "source": [
    "# Donner la réponse ci-dessous"
   ]
  },
  {
   "cell_type": "markdown",
   "metadata": {},
   "source": [
    "**Indication 3** : Voici un exemple de code pour générer une droite de paramètre (a,b) = (2,3)"
   ]
  },
  {
   "cell_type": "code",
   "execution_count": 5,
   "metadata": {},
   "outputs": [
    {
     "data": {
      "text/plain": [
       "[<matplotlib.lines.Line2D at 0x11571a3c8>]"
      ]
     },
     "execution_count": 5,
     "metadata": {},
     "output_type": "execute_result"
    },
    {
     "data": {
      "image/png": "[encoded data removed]",
      "text/plain": [
       "<matplotlib.figure.Figure at 0x10c5deb70>"
      ]
     },
     "metadata": {},
     "output_type": "display_data"
    }
   ],
   "source": [
    "x = np.linspace(-5, 5, 30)\n",
    "plt.plot(x,2*x+3,c=(0.5,0.5,0.5))"
   ]
  },
  {
   "cell_type": "markdown",
   "metadata": {},
   "source": [
    "**Exercice 15** : *Générer une suite de droites indexées par des couleurs différentes dont les paramètres (a,b) sont les mêmes que dans l'exercice 14*"
   ]
  },
  {
   "cell_type": "code",
   "execution_count": null,
   "metadata": {},
   "outputs": [],
   "source": [
    "# Donner la réponse ci-dessous"
   ]
  },
  {
   "cell_type": "markdown",
   "metadata": {},
   "source": [
    "On fixe maintenant un nuage de point, et on veut représenter l'action en fonction des paramètres (a,b) des droites possibles."
   ]
  },
  {
   "cell_type": "markdown",
   "metadata": {},
   "source": [
    "**Exercice 16** : *Générer un graphe comprenant une droite de paramètres (a,b) = (20,5000) et le nuage de point vu à l'exercice 12*"
   ]
  },
  {
   "cell_type": "code",
   "execution_count": null,
   "metadata": {},
   "outputs": [],
   "source": [
    "x = np.linspace(400,1800,100)\n",
    "\n",
    "# Donner la réponse ci-dessous"
   ]
  },
  {
   "cell_type": "markdown",
   "metadata": {},
   "source": [
    "**Indication 4** : Voici comment on peut générer le graphe d'une fonction de 2 paramètres en 3D (la fonction utilisée ici sera $f(a,b) = a^2-b^2$)."
   ]
  },
  {
   "cell_type": "code",
   "execution_count": 6,
   "metadata": {},
   "outputs": [
    {
     "data": {
      "text/plain": [
       "Text(0.5,0,'z')"
      ]
     },
     "execution_count": 6,
     "metadata": {},
     "output_type": "execute_result"
    },
    {
     "data": {
      "image/png": "[encoded data removed]",
      "text/plain": [
       "<matplotlib.figure.Figure at 0x115728ef0>"
      ]
     },
     "metadata": {},
     "output_type": "display_data"
    }
   ],
   "source": [
    "x = np.linspace(-6, 6, 30)\n",
    "y = np.linspace(-6, 6, 30)\n",
    "\n",
    "def fun(a,b):\n",
    "    return a**2 - b**2\n",
    "\n",
    "X, Y = np.meshgrid(x, y)\n",
    "Z = fun(X, Y)\n",
    "\n",
    "fig = plt.figure()\n",
    "ax = plt.axes(projection='3d')\n",
    "ax.plot_surface(X, Y, Z, cmap='Oranges')\n",
    "\n",
    "ax.set_xlabel('x')\n",
    "ax.set_ylabel('y')\n",
    "ax.set_zlabel('z')"
   ]
  },
  {
   "cell_type": "markdown",
   "metadata": {},
   "source": [
    "**Exercice 17** : *Générer le graphe de la fonction action(nuage, a, b)* "
   ]
  },
  {
   "cell_type": "code",
   "execution_count": null,
   "metadata": {},
   "outputs": [],
   "source": [
    "x = np.linspace(-110, 150, 300)\n",
    "y = np.linspace(-50, 50, 50)\n",
    "\n",
    "#Donner la réponse ci-dessous"
   ]
  },
  {
   "cell_type": "markdown",
   "metadata": {},
   "source": [
    "L’objectif du TP suivant sera de trouver une **méthode pour déterminer le minimum de cette fonctionnelle d’action**. La solution nous donnera en particulier la droite de regression linéaire."
   ]
  }
 ],
 "metadata": {
  "kernelspec": {
   "display_name": "Python 3",
   "language": "python",
   "name": "python3"
  },
  "language_info": {
   "codemirror_mode": {
    "name": "ipython",
    "version": 3
   },
   "file_extension": ".py",
   "mimetype": "text/x-python",
   "name": "python",
   "nbconvert_exporter": "python",
   "pygments_lexer": "ipython3",
   "version": "3.6.4"
  }
 },
 "nbformat": 4,
 "nbformat_minor": 2
}
